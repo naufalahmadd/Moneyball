{
 "cells": [
  {
   "cell_type": "code",
   "execution_count": 1,
   "metadata": {},
   "outputs": [],
   "source": [
    "import pandas as pd\n",
    "import numpy as np\n",
    "import matplotlib.pyplot as plt\n",
    "\n",
    "%matplotlib inline"
   ]
  },
  {
   "cell_type": "code",
   "execution_count": 2,
   "metadata": {},
   "outputs": [],
   "source": [
    "df = pd.read_csv('Data/baseball.csv')"
   ]
  },
  {
   "cell_type": "code",
   "execution_count": 3,
   "metadata": {
    "tags": []
   },
   "outputs": [
    {
     "output_type": "execute_result",
     "data": {
      "text/plain": "  Team League  Year   RS   RA   W    OBP    SLG     BA  Playoffs  RankSeason  \\\n0  ARI     NL  2012  734  688  81  0.328  0.418  0.259         0         NaN   \n1  ATL     NL  2012  700  600  94  0.320  0.389  0.247         1         4.0   \n2  BAL     AL  2012  712  705  93  0.311  0.417  0.247         1         5.0   \n3  BOS     AL  2012  734  806  69  0.315  0.415  0.260         0         NaN   \n4  CHC     NL  2012  613  759  61  0.302  0.378  0.240         0         NaN   \n\n   RankPlayoffs    G   OOBP   OSLG  \n0           NaN  162  0.317  0.415  \n1           5.0  162  0.306  0.378  \n2           4.0  162  0.315  0.403  \n3           NaN  162  0.331  0.428  \n4           NaN  162  0.335  0.424  ",
      "text/html": "<div>\n<style scoped>\n    .dataframe tbody tr th:only-of-type {\n        vertical-align: middle;\n    }\n\n    .dataframe tbody tr th {\n        vertical-align: top;\n    }\n\n    .dataframe thead th {\n        text-align: right;\n    }\n</style>\n<table border=\"1\" class=\"dataframe\">\n  <thead>\n    <tr style=\"text-align: right;\">\n      <th></th>\n      <th>Team</th>\n      <th>League</th>\n      <th>Year</th>\n      <th>RS</th>\n      <th>RA</th>\n      <th>W</th>\n      <th>OBP</th>\n      <th>SLG</th>\n      <th>BA</th>\n      <th>Playoffs</th>\n      <th>RankSeason</th>\n      <th>RankPlayoffs</th>\n      <th>G</th>\n      <th>OOBP</th>\n      <th>OSLG</th>\n    </tr>\n  </thead>\n  <tbody>\n    <tr>\n      <th>0</th>\n      <td>ARI</td>\n      <td>NL</td>\n      <td>2012</td>\n      <td>734</td>\n      <td>688</td>\n      <td>81</td>\n      <td>0.328</td>\n      <td>0.418</td>\n      <td>0.259</td>\n      <td>0</td>\n      <td>NaN</td>\n      <td>NaN</td>\n      <td>162</td>\n      <td>0.317</td>\n      <td>0.415</td>\n    </tr>\n    <tr>\n      <th>1</th>\n      <td>ATL</td>\n      <td>NL</td>\n      <td>2012</td>\n      <td>700</td>\n      <td>600</td>\n      <td>94</td>\n      <td>0.320</td>\n      <td>0.389</td>\n      <td>0.247</td>\n      <td>1</td>\n      <td>4.0</td>\n      <td>5.0</td>\n      <td>162</td>\n      <td>0.306</td>\n      <td>0.378</td>\n    </tr>\n    <tr>\n      <th>2</th>\n      <td>BAL</td>\n      <td>AL</td>\n      <td>2012</td>\n      <td>712</td>\n      <td>705</td>\n      <td>93</td>\n      <td>0.311</td>\n      <td>0.417</td>\n      <td>0.247</td>\n      <td>1</td>\n      <td>5.0</td>\n      <td>4.0</td>\n      <td>162</td>\n      <td>0.315</td>\n      <td>0.403</td>\n    </tr>\n    <tr>\n      <th>3</th>\n      <td>BOS</td>\n      <td>AL</td>\n      <td>2012</td>\n      <td>734</td>\n      <td>806</td>\n      <td>69</td>\n      <td>0.315</td>\n      <td>0.415</td>\n      <td>0.260</td>\n      <td>0</td>\n      <td>NaN</td>\n      <td>NaN</td>\n      <td>162</td>\n      <td>0.331</td>\n      <td>0.428</td>\n    </tr>\n    <tr>\n      <th>4</th>\n      <td>CHC</td>\n      <td>NL</td>\n      <td>2012</td>\n      <td>613</td>\n      <td>759</td>\n      <td>61</td>\n      <td>0.302</td>\n      <td>0.378</td>\n      <td>0.240</td>\n      <td>0</td>\n      <td>NaN</td>\n      <td>NaN</td>\n      <td>162</td>\n      <td>0.335</td>\n      <td>0.424</td>\n    </tr>\n  </tbody>\n</table>\n</div>"
     },
     "metadata": {},
     "execution_count": 3
    }
   ],
   "source": [
    "df.head()"
   ]
  },
  {
   "cell_type": "code",
   "execution_count": null,
   "metadata": {},
   "outputs": [],
   "source": []
  }
 ],
 "metadata": {
  "language_info": {
   "codemirror_mode": {
    "name": "ipython",
    "version": 3
   },
   "file_extension": ".py",
   "mimetype": "text/x-python",
   "name": "python",
   "nbconvert_exporter": "python",
   "pygments_lexer": "ipython3",
   "version": "3.7.6-final"
  },
  "orig_nbformat": 2,
  "kernelspec": {
   "name": "python37664bitjlmlconda823288ade10744eab27a13100ebb26e4",
   "display_name": "Python 3.7.6 64-bit ('jlml': conda)"
  }
 },
 "nbformat": 4,
 "nbformat_minor": 2
}