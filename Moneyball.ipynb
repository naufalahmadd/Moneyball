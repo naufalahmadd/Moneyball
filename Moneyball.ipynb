{
 "cells": [
  {
   "cell_type": "markdown",
   "metadata": {},
   "source": [
    "<a id='toc'></a>\n",
    "## Table of Contents\n",
    "\n",
    "<ul>\n",
    "<li><a href=\"#toc\">Table of Contents</a></li>\n",
    "<li><a href=\"#importp\">Import Packages</a></li>\n",
    "<li><a href=\"#importd\">Import Dataset</a></li>\n",
    "<li><a href=\"#dtid\">Data Tidying</a></li>\n",
    "<li><a href=\"#maptime\">Mapping Time!</a></li>\n",
    "</ul>"
   ]
  },
  {
   "cell_type": "code",
   "execution_count": 4,
   "metadata": {},
   "outputs": [],
   "source": [
    "import pandas as pd\n",
    "import numpy as np\n",
    "import matplotlib.pyplot as plt\n",
    "from sklearn import linear_model\n",
    "\n",
    "%matplotlib inline"
   ]
  },
  {
   "cell_type": "code",
   "execution_count": 5,
   "metadata": {},
   "outputs": [],
   "source": [
    "df = pd.read_csv('Data/baseball.csv')"
   ]
  },
  {
   "cell_type": "code",
   "execution_count": 7,
   "metadata": {
    "tags": []
   },
   "outputs": [],
   "source": [
    "df = df[df['Year'] < 2002]"
   ]
  },
  {
   "cell_type": "code",
   "execution_count": 8,
   "metadata": {},
   "outputs": [
    {
     "output_type": "execute_result",
     "data": {
      "text/plain": "     Team League  Year   RS   RA    W    OBP    SLG     BA  Playoffs  \\\n330   ANA     AL  2001  691  730   75  0.327  0.405  0.261         0   \n331   ARI     NL  2001  818  677   92  0.341  0.442  0.267         1   \n332   ATL     NL  2001  729  643   88  0.324  0.412  0.260         1   \n333   BAL     AL  2001  687  829   63  0.319  0.380  0.248         0   \n334   BOS     AL  2001  772  745   82  0.334  0.439  0.266         0   \n...   ...    ...   ...  ...  ...  ...    ...    ...    ...       ...   \n1227  PHI     NL  1962  705  759   81  0.330  0.390  0.260         0   \n1228  PIT     NL  1962  706  626   93  0.321  0.394  0.268         0   \n1229  SFG     NL  1962  878  690  103  0.341  0.441  0.278         1   \n1230  STL     NL  1962  774  664   84  0.335  0.394  0.271         0   \n1231  WSA     AL  1962  599  716   60  0.308  0.373  0.250         0   \n\n      RankSeason  RankPlayoffs    G   OOBP   OSLG  \n330          NaN           NaN  162  0.331  0.412  \n331          5.0           1.0  162  0.311  0.404  \n332          7.0           3.0  162  0.314  0.384  \n333          NaN           NaN  162  0.337  0.439  \n334          NaN           NaN  161  0.329  0.393  \n...          ...           ...  ...    ...    ...  \n1227         NaN           NaN  161    NaN    NaN  \n1228         NaN           NaN  161    NaN    NaN  \n1229         1.0           2.0  165    NaN    NaN  \n1230         NaN           NaN  163    NaN    NaN  \n1231         NaN           NaN  162    NaN    NaN  \n\n[902 rows x 15 columns]",
      "text/html": "<div>\n<style scoped>\n    .dataframe tbody tr th:only-of-type {\n        vertical-align: middle;\n    }\n\n    .dataframe tbody tr th {\n        vertical-align: top;\n    }\n\n    .dataframe thead th {\n        text-align: right;\n    }\n</style>\n<table border=\"1\" class=\"dataframe\">\n  <thead>\n    <tr style=\"text-align: right;\">\n      <th></th>\n      <th>Team</th>\n      <th>League</th>\n      <th>Year</th>\n      <th>RS</th>\n      <th>RA</th>\n      <th>W</th>\n      <th>OBP</th>\n      <th>SLG</th>\n      <th>BA</th>\n      <th>Playoffs</th>\n      <th>RankSeason</th>\n      <th>RankPlayoffs</th>\n      <th>G</th>\n      <th>OOBP</th>\n      <th>OSLG</th>\n    </tr>\n  </thead>\n  <tbody>\n    <tr>\n      <th>330</th>\n      <td>ANA</td>\n      <td>AL</td>\n      <td>2001</td>\n      <td>691</td>\n      <td>730</td>\n      <td>75</td>\n      <td>0.327</td>\n      <td>0.405</td>\n      <td>0.261</td>\n      <td>0</td>\n      <td>NaN</td>\n      <td>NaN</td>\n      <td>162</td>\n      <td>0.331</td>\n      <td>0.412</td>\n    </tr>\n    <tr>\n      <th>331</th>\n      <td>ARI</td>\n      <td>NL</td>\n      <td>2001</td>\n      <td>818</td>\n      <td>677</td>\n      <td>92</td>\n      <td>0.341</td>\n      <td>0.442</td>\n      <td>0.267</td>\n      <td>1</td>\n      <td>5.0</td>\n      <td>1.0</td>\n      <td>162</td>\n      <td>0.311</td>\n      <td>0.404</td>\n    </tr>\n    <tr>\n      <th>332</th>\n      <td>ATL</td>\n      <td>NL</td>\n      <td>2001</td>\n      <td>729</td>\n      <td>643</td>\n      <td>88</td>\n      <td>0.324</td>\n      <td>0.412</td>\n      <td>0.260</td>\n      <td>1</td>\n      <td>7.0</td>\n      <td>3.0</td>\n      <td>162</td>\n      <td>0.314</td>\n      <td>0.384</td>\n    </tr>\n    <tr>\n      <th>333</th>\n      <td>BAL</td>\n      <td>AL</td>\n      <td>2001</td>\n      <td>687</td>\n      <td>829</td>\n      <td>63</td>\n      <td>0.319</td>\n      <td>0.380</td>\n      <td>0.248</td>\n      <td>0</td>\n      <td>NaN</td>\n      <td>NaN</td>\n      <td>162</td>\n      <td>0.337</td>\n      <td>0.439</td>\n    </tr>\n    <tr>\n      <th>334</th>\n      <td>BOS</td>\n      <td>AL</td>\n      <td>2001</td>\n      <td>772</td>\n      <td>745</td>\n      <td>82</td>\n      <td>0.334</td>\n      <td>0.439</td>\n      <td>0.266</td>\n      <td>0</td>\n      <td>NaN</td>\n      <td>NaN</td>\n      <td>161</td>\n      <td>0.329</td>\n      <td>0.393</td>\n    </tr>\n    <tr>\n      <th>...</th>\n      <td>...</td>\n      <td>...</td>\n      <td>...</td>\n      <td>...</td>\n      <td>...</td>\n      <td>...</td>\n      <td>...</td>\n      <td>...</td>\n      <td>...</td>\n      <td>...</td>\n      <td>...</td>\n      <td>...</td>\n      <td>...</td>\n      <td>...</td>\n      <td>...</td>\n    </tr>\n    <tr>\n      <th>1227</th>\n      <td>PHI</td>\n      <td>NL</td>\n      <td>1962</td>\n      <td>705</td>\n      <td>759</td>\n      <td>81</td>\n      <td>0.330</td>\n      <td>0.390</td>\n      <td>0.260</td>\n      <td>0</td>\n      <td>NaN</td>\n      <td>NaN</td>\n      <td>161</td>\n      <td>NaN</td>\n      <td>NaN</td>\n    </tr>\n    <tr>\n      <th>1228</th>\n      <td>PIT</td>\n      <td>NL</td>\n      <td>1962</td>\n      <td>706</td>\n      <td>626</td>\n      <td>93</td>\n      <td>0.321</td>\n      <td>0.394</td>\n      <td>0.268</td>\n      <td>0</td>\n      <td>NaN</td>\n      <td>NaN</td>\n      <td>161</td>\n      <td>NaN</td>\n      <td>NaN</td>\n    </tr>\n    <tr>\n      <th>1229</th>\n      <td>SFG</td>\n      <td>NL</td>\n      <td>1962</td>\n      <td>878</td>\n      <td>690</td>\n      <td>103</td>\n      <td>0.341</td>\n      <td>0.441</td>\n      <td>0.278</td>\n      <td>1</td>\n      <td>1.0</td>\n      <td>2.0</td>\n      <td>165</td>\n      <td>NaN</td>\n      <td>NaN</td>\n    </tr>\n    <tr>\n      <th>1230</th>\n      <td>STL</td>\n      <td>NL</td>\n      <td>1962</td>\n      <td>774</td>\n      <td>664</td>\n      <td>84</td>\n      <td>0.335</td>\n      <td>0.394</td>\n      <td>0.271</td>\n      <td>0</td>\n      <td>NaN</td>\n      <td>NaN</td>\n      <td>163</td>\n      <td>NaN</td>\n      <td>NaN</td>\n    </tr>\n    <tr>\n      <th>1231</th>\n      <td>WSA</td>\n      <td>AL</td>\n      <td>1962</td>\n      <td>599</td>\n      <td>716</td>\n      <td>60</td>\n      <td>0.308</td>\n      <td>0.373</td>\n      <td>0.250</td>\n      <td>0</td>\n      <td>NaN</td>\n      <td>NaN</td>\n      <td>162</td>\n      <td>NaN</td>\n      <td>NaN</td>\n    </tr>\n  </tbody>\n</table>\n<p>902 rows × 15 columns</p>\n</div>"
     },
     "metadata": {},
     "execution_count": 8
    }
   ],
   "source": [
    "df"
   ]
  },
  {
   "cell_type": "code",
   "execution_count": null,
   "metadata": {},
   "outputs": [],
   "source": []
  }
 ],
 "metadata": {
  "language_info": {
   "codemirror_mode": {
    "name": "ipython",
    "version": 3
   },
   "file_extension": ".py",
   "mimetype": "text/x-python",
   "name": "python",
   "nbconvert_exporter": "python",
   "pygments_lexer": "ipython3",
   "version": "3.7.6-final"
  },
  "orig_nbformat": 2,
  "kernelspec": {
   "name": "python37664bitjlmlconda823288ade10744eab27a13100ebb26e4",
   "display_name": "Python 3.7.6 64-bit ('jlml': conda)"
  }
 },
 "nbformat": 4,
 "nbformat_minor": 2
}